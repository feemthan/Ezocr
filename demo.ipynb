{
 "cells": [
  {
   "cell_type": "code",
   "execution_count": 4,
   "metadata": {},
   "outputs": [],
   "source": [
    "import easyocr"
   ]
  },
  {
   "cell_type": "code",
   "execution_count": 5,
   "metadata": {},
   "outputs": [
    {
     "data": {
      "text/plain": [
       "[([[231, 32], [674, 32], [674, 64], [231, 64]],\n",
       "  'Reduce your risk of coronavirus infection:',\n",
       "  0.8413235097384582),\n",
       " ([[326, 98], [598, 98], [598, 124], [326, 124]],\n",
       "  'Clean hands with soap and water',\n",
       "  0.9633979826375733),\n",
       " ([[328, 124], [542, 124], [542, 148], [328, 148]],\n",
       "  'or alcohol-based hand rub',\n",
       "  0.8904727411605103),\n",
       " ([[246, 169], [595, 169], [595, 196], [246, 196]],\n",
       "  'Cover nose and mouth when coughing and',\n",
       "  0.999377406058871),\n",
       " ([[245, 194], [546, 194], [546, 222], [245, 222]],\n",
       "  'sneezing with tissue or flexed elbow',\n",
       "  0.9558614647236352),\n",
       " ([[320, 240], [624, 240], [624, 266], [320, 266]],\n",
       "  'Avoid close contact with anyone with',\n",
       "  0.8602265886478594),\n",
       " ([[318, 266], [528, 266], [528, 292], [318, 292]],\n",
       "  'cold or flu-like symptoms',\n",
       "  0.7663832032618624),\n",
       " ([[248, 322], [510, 322], [510, 348], [248, 348]],\n",
       "  'Thoroughly cook meat and eggs',\n",
       "  0.715975683875875),\n",
       " ([[332, 370], [640, 370], [640, 396], [332, 396]],\n",
       "  'No unprotected contact with live wild',\n",
       "  0.834698613156364),\n",
       " ([[334, 396], [464, 396], [464, 420], [334, 420]],\n",
       "  'or farm animals',\n",
       "  0.717984915264534),\n",
       " ([[595, 427], [683, 427], [683, 447], [595, 447]],\n",
       "  'World Health',\n",
       "  0.9979501110862243),\n",
       " ([[595, 445], [685, 445], [685, 463], [595, 463]],\n",
       "  'Organization',\n",
       "  0.9989589270469393)]"
      ]
     },
     "execution_count": 5,
     "metadata": {},
     "output_type": "execute_result"
    }
   ],
   "source": [
    "reader = easyocr.Reader(['en'])\n",
    "result = reader.readtext('examples/english.png')\n",
    "result"
   ]
  },
  {
   "cell_type": "code",
   "execution_count": null,
   "metadata": {},
   "outputs": [],
   "source": []
  }
 ],
 "metadata": {
  "interpreter": {
   "hash": "42e40efe2eafd50d01c1a59968b738ec9d11b5caa606cb760e6fe2d96c0a36ce"
  },
  "kernelspec": {
   "display_name": "Python 3.8.12 64-bit ('easyocr': conda)",
   "language": "python",
   "name": "python3"
  },
  "language_info": {
   "codemirror_mode": {
    "name": "ipython",
    "version": 3
   },
   "file_extension": ".py",
   "mimetype": "text/x-python",
   "name": "python",
   "nbconvert_exporter": "python",
   "pygments_lexer": "ipython3",
   "version": "3.8.12"
  },
  "orig_nbformat": 4
 },
 "nbformat": 4,
 "nbformat_minor": 2
}
