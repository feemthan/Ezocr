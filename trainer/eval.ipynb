{
 "cells": [
  {
   "cell_type": "code",
   "execution_count": 1,
   "metadata": {},
   "outputs": [],
   "source": [
    "import easyocr\n",
    "reader_scratch = easyocr.Reader(['en'], recog_network='scratch')\n",
    "reader_pretrained = easyocr.Reader(['en'], recog_network='sample')"
   ]
  },
  {
   "cell_type": "code",
   "execution_count": 2,
   "metadata": {},
   "outputs": [
    {
     "data": {
      "text/plain": [
       "[([[231, 32], [674, 32], [674, 64], [231, 64]],\n",
       "  'Reduce Vour rrisk of coronavirs intections',\n",
       "  0.2175069155675132),\n",
       " ([[326, 98], [598, 98], [598, 124], [326, 124]],\n",
       "  'Clean hands With S0ap and Water',\n",
       "  0.5101474731818175),\n",
       " ([[328, 124], [542, 124], [542, 148], [328, 148]],\n",
       "  'or alcohol based hand ub',\n",
       "  0.7900882145077512),\n",
       " ([[246, 169], [595, 169], [595, 196], [246, 196]],\n",
       "  'Cover Tose and mouth When CoIghing and',\n",
       "  0.2426353119271856),\n",
       " ([[245, 194], [546, 194], [546, 222], [245, 222]],\n",
       "  'Ssneezing Wwith Hissue Or fexed elbow',\n",
       "  0.20947976908473454),\n",
       " ([[320, 240], [624, 240], [624, 266], [320, 266]],\n",
       "  'Avoid ose Ccontact With anyone With',\n",
       "  0.29106400165164276),\n",
       " ([[318, 266], [528, 266], [528, 292], [318, 292]],\n",
       "  'Cold or Ilu-Iike Ssymptoms',\n",
       "  0.3146262529685355),\n",
       " ([[248, 322], [510, 322], [510, 348], [248, 348]],\n",
       "  'Thoroughly Cook mneat and eggs',\n",
       "  0.5797367777909452),\n",
       " ([[332, 370], [640, 370], [640, 396], [332, 396]],\n",
       "  'No unprotected contact With Iive Wild',\n",
       "  0.28225648653817664),\n",
       " ([[334, 396], [464, 396], [464, 420], [334, 420]],\n",
       "  'or farm animals',\n",
       "  0.4862795146109214),\n",
       " ([[595, 427], [683, 427], [683, 447], [595, 447]],\n",
       "  'World Healh',\n",
       "  0.6464107826312212),\n",
       " ([[595, 445], [685, 445], [685, 463], [595, 463]],\n",
       "  'Organitzation',\n",
       "  0.356237358861701)]"
      ]
     },
     "execution_count": 2,
     "metadata": {},
     "output_type": "execute_result"
    }
   ],
   "source": [
    "reader_scratch.readtext('../examples/english.png')"
   ]
  },
  {
   "cell_type": "code",
   "execution_count": 3,
   "metadata": {},
   "outputs": [
    {
     "data": {
      "text/plain": [
       "[([[231, 32], [674, 32], [674, 64], [231, 64]],\n",
       "  'Reduce your risk of coronavirus infection:',\n",
       "  0.8279245829692504),\n",
       " ([[326, 98], [598, 98], [598, 124], [326, 124]],\n",
       "  'Clean hands with soap and water',\n",
       "  0.7729666173445989),\n",
       " ([[328, 124], [542, 124], [542, 148], [328, 148]],\n",
       "  'or alcohol-based hand rub',\n",
       "  0.7941730795893915),\n",
       " ([[246, 169], [595, 169], [595, 196], [246, 196]],\n",
       "  'Cover nose and mouth when coughing and',\n",
       "  0.8106260351425015),\n",
       " ([[245, 194], [546, 194], [546, 222], [245, 222]],\n",
       "  'sneezing with tissue or flexed elbow',\n",
       "  0.9286250053692547),\n",
       " ([[320, 240], [624, 240], [624, 266], [320, 266]],\n",
       "  'Avoid close contact with anyone with',\n",
       "  0.9460551542114625),\n",
       " ([[318, 266], [528, 266], [528, 292], [318, 292]],\n",
       "  'cold or flu-like symptoms',\n",
       "  0.9644237001729249),\n",
       " ([[248, 322], [510, 322], [510, 348], [248, 348]],\n",
       "  'Thoroughly cook meat and eggs',\n",
       "  0.9490587672323277),\n",
       " ([[332, 370], [640, 370], [640, 396], [332, 396]],\n",
       "  'No unprotected contact with live wild',\n",
       "  0.8361294692691014),\n",
       " ([[334, 396], [464, 396], [464, 420], [334, 420]],\n",
       "  'or farm animals',\n",
       "  0.761397230320736),\n",
       " ([[595, 427], [683, 427], [683, 447], [595, 447]],\n",
       "  'World Health',\n",
       "  0.9660311034614937),\n",
       " ([[595, 445], [685, 445], [685, 463], [595, 463]],\n",
       "  'Organization',\n",
       "  0.9992919804896688)]"
      ]
     },
     "execution_count": 3,
     "metadata": {},
     "output_type": "execute_result"
    }
   ],
   "source": [
    "reader_pretrained.readtext('../examples/english.png')"
   ]
  },
  {
   "cell_type": "code",
   "execution_count": null,
   "metadata": {},
   "outputs": [],
   "source": []
  }
 ],
 "metadata": {
  "interpreter": {
   "hash": "42e40efe2eafd50d01c1a59968b738ec9d11b5caa606cb760e6fe2d96c0a36ce"
  },
  "kernelspec": {
   "display_name": "Python 3.8.12 64-bit ('easyocr': conda)",
   "language": "python",
   "name": "python3"
  },
  "language_info": {
   "codemirror_mode": {
    "name": "ipython",
    "version": 3
   },
   "file_extension": ".py",
   "mimetype": "text/x-python",
   "name": "python",
   "nbconvert_exporter": "python",
   "pygments_lexer": "ipython3",
   "version": "3.8.12"
  },
  "orig_nbformat": 4
 },
 "nbformat": 4,
 "nbformat_minor": 2
}
